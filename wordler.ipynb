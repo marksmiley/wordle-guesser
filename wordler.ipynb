{
 "cells": [
  {
   "cell_type": "code",
   "execution_count": 1,
   "metadata": {},
   "outputs": [],
   "source": [
    "from requests import get\n",
    "from bs4 import BeautifulSoup\n",
    "\n",
    "#Serai "
   ]
  },
  {
   "cell_type": "code",
   "execution_count": 2,
   "metadata": {},
   "outputs": [],
   "source": [
    "def init_score(guess):\n",
    "    for i, letter in enumerate(guess):\n",
    "        if letter == solution[i]:\n",
    "            guess_scores[i] = g\n",
    "            print(g)\n",
    "        elif letter in solution:\n",
    "            guess_scores[i] = y\n",
    "            print(y)\n",
    "        else:\n",
    "            misses.append(letter)\n",
    "            guess_scores[i] = m\n",
    "            print(m)\n",
    "    return guess_scores, misses\n",
    "# print(misses)\n",
    "# print(guess_scores)"
   ]
  },
  {
   "cell_type": "code",
   "execution_count": 3,
   "metadata": {},
   "outputs": [],
   "source": [
    "def remove_words(options, misses, guess, guess_scores):\n",
    "    removes = []\n",
    "    print(f\"length of options before anything: {len(options)}\\n\")\n",
    "\n",
    "    for word in options:\n",
    "        for letter in misses:\n",
    "            if letter in word:\n",
    "                # print(word, letter)\n",
    "                removes.append(word)\n",
    "                break\n",
    "\n",
    "    options_2 = [x for x in options if x not in removes]\n",
    "    print(f\"length of options after misses and before true_letter: {len(options_2)}\\n\")\n",
    "\n",
    "    for word in options_2:\n",
    "        for i, score in enumerate(guess_scores):\n",
    "            if score == 2:\n",
    "                true_letter = guess[i]\n",
    "                if word[i] != true_letter:\n",
    "                    # print(word, guess, true_letter)\n",
    "                    removes.append(word)\n",
    "                    break\n",
    "\n",
    "    options_3 = [x for x in options_2 if x not in removes]\n",
    "    print(f\"length of options after green letter and misses: {len(options_3)}\\n\")\n",
    "\n",
    "    yellow_letters = []\n",
    "    yl = {}\n",
    "    for i, digit in enumerate(guess_scores):\n",
    "        if digit == 1:\n",
    "            yellow_letters.append(guess[i])\n",
    "            yl[guess[i]] = i\n",
    "    \n",
    "    for word in options_3:\n",
    "        for letter in yellow_letters:\n",
    "            if letter not in word:\n",
    "                removes.append(word)\n",
    "                break\n",
    "    options_4 = [x for x in options_3 if x not in removes]\n",
    "\n",
    "    print(f\"length of options after green letter, yellow letter, and misses: {len(options_4)}\\n\")\n",
    "\n",
    "    for word in options_4:\n",
    "        for letter in yl:\n",
    "            if word[yl[letter]] == letter:\n",
    "                removes.append(word)\n",
    "                break\n",
    "\n",
    "    options_5 = [x for x in options_4 if x not in removes]\n",
    "\n",
    "    return options_5\n"
   ]
  },
  {
   "cell_type": "code",
   "execution_count": 4,
   "metadata": {},
   "outputs": [],
   "source": [
    "def filter_by_score(options, guess, guess_scores):\n",
    "    scores = {}\n",
    "    for word in options:\n",
    "        score = 0\n",
    "        for i, letter in enumerate(word):\n",
    "            if guess_scores[i] == 0:\n",
    "                continue\n",
    "            elif guess_scores[i] == 1:\n",
    "                if guess[i] in word:\n",
    "                    score += guess_scores[i]\n",
    "            elif guess_scores[i] == 2:\n",
    "                if letter == guess[i]:\n",
    "                    score += guess_scores[i]\n",
    "        scores[word] = score\n",
    "\n",
    "    best_score = max(scores.values())\n",
    "    return_options = []\n",
    "    for word in options:\n",
    "        if scores[word] == best_score:\n",
    "            return_options.append(word)\n",
    "    # print(return_options)\n",
    "    return return_options\n",
    "        "
   ]
  },
  {
   "cell_type": "code",
   "execution_count": 5,
   "metadata": {},
   "outputs": [],
   "source": [
    "raw_words = 'ABACK ABASE ABATE ABBEY ABOUT ABOVE ABYSS ACRID ACTOR ACUTE ADMIT ADOBE ADOPT ADORE ADULT AGAIN AGAPE AGATE AGENT AGILE AGLOW AGONY AGREE AHEAD ALBUM ALIEN ALIKE ALLOW ALOFT ALONE ALOUD ALPHA ALTAR ALTER AMBER AMISS AMPLE ANGEL ANGER ANGRY ANODE ANTIC AORTA APHID APPLE APPLY APRON APTLY ARBOR ARDOR ARGUE AROMA ASIDE ASKEW ASSET ATOLL ATONE AUDIO AUDIT AVAIL AVERT AWAIT AWAKE AWFUL AXIOM AZURE BADGE BADLY BAGEL BAKER BALSA BANAL BARGE BASIC BATHE BATON BATTY BAYOU BEACH BEADY BEAST BEEFY BEGET BEGIN BEING BELCH BELIE BELLY BELOW BENCH BERET BERTH BESET BINGE BIOME BIRCH BIRTH BLACK BLAME BLAND BLEAK BLEED BLEEP BLOKE BLOWN BLUFF BLURB BLURT BLUSH BOOBY BOOST BOOZE BOOZY BORAX BOUGH BRAID BRAKE BRASH BRAVE BREAD BREAK BRIAR BRIBE BRIDE BRINE BRING BRINK BRISK BROKE BROOK BROOM BRUSH BUGGY BULLY BUNCH BURLY CACAO CACHE CANDY CANNY CANOE CAPER CARAT CARGO CARRY CAROL CATCH CATER CAULK CAUSE CEDAR CHAFE CHAMP CHANT CHARD CHARM CHART CHEAT CHEEK CHEST CHIEF CHILL CHIME CHOIR CHOKE CHORD CHUNK CHUTE CIDER CIGAR CINCH CIRCA CIVIC CLASS CLEAN CLEAR CLERK CLICK CLING CLOCK CLOSE CLOTH CLOWN CLUCK COACH COAST COCOA COLON COMET COMMA CONDO CONIC CORNY COULD COUNT COVET COWER COYLY CRAMP CRANE CRANK CRASS CRATE CRAVE CRAZE CRAZY CREAK CREDO CREPT CRIME CRIMP CROAK CRONE CROSS CRUMB CRUST CURLY CYNIC DADDY DANCE DANDY DEATH DEBUG DELTA DELVE DENIM DEPOT DEPTH DIGIT DINER DISCO DITTO DODGE DONOR DONUT DOUBT DOWRY DOZEN DRAIN DREAM DRINK DRIVE DROLL DROOP DUCHY DUTCH DUVET DWARF DWELL DWELT EARTH EGRET EJECT ELDER ELOPE ELUDE EMAIL EMPTY ENEMA ENJOY ENNUI ENTER EPOCH EPOXY EQUAL ERODE ERROR ESSAY ETHIC ETHOS EVADE EVERY EXACT EXCEL EXERT EXIST EXTRA EXULT FARCE FAULT FAVOR FEAST FEIGN FERRY FEWER FIELD FIEND FIFTY FINER FIRST FISHY FIXER FJORD FLAIL FLAIR FLANK FLARE FLASK FLESH FLICK FLING FLIRT FLOAT FLOCK FLOOD FLOOR FLORA FLOSS FLOUT FLUFF FLUME FLYER FOCAL FOCUS FOGGY FOLLY FORAY FORGE FORGO FORTH FOUND FOYER FRAME FRANK FRESH FROCK FRONT FROST FROTH FROZE FUNGI GAMER GAMMA GAUDY GAUZE GAWKY GECKO GHOUL GIANT GIDDY GIRTH GIVEN GLASS GLAZE GLEAN GLOAT GLOOM GLORY GLOVE GLYPH GNASH GOLEM GONER GOOSE GORGE GOUGE GRADE GRAIL GRAND GRAPH GRATE GREAT GREEN GREET GRIEF GRIME GRIMY GRIPE GROIN GROUP GROUT GROVE GROWL GRUEL GUANO GUARD GUEST GUIDE GUILD GULLY GUPPY HAIRY HAPPY HATCH HATER HAVOC HEADY HEART HEATH HEIST HELIX HELLO HERON HINGE HOARD HOBBY HOMER HORDE HORSE HOTEL HOUND HOWDY HUMAN HUMID HUMOR HUMPH HUNKY HURRY HUTCH HYPER IGLOO IMPEL INANE INDEX INEPT INERT INFER INPUT INTER IONIC IRATE IRONY ISLET ITCHY IVORY JAUNT JAZZY JOKER JOUST JUDGE KARMA KAYAK KAZOO KEBAB KHAKI KIOSK KNEEL KNELT KNOCK KNOLL KOALA LABEL LABOR LAPEL LAPSE LARVA LATTE LAYER LEAFY LEAKY LEAPT LEASH LEAVE LEDGE LEERY LEMON LIBEL LIGHT LILAC LIMIT LINEN LIVER LOCUS LOFTY LOGIC LOOPY LOSER LOVER LOWLY LOYAL LUCKY LUNAR LUSTY LYING MADAM MAGIC MAGMA MAIZE MAJOR MANIA MANLY MANOR MAPLE MARCH MARRY MARSH MASON MASSE MATEY MAXIM MAYBE MEALY MEANT MEDAL MERCY MERIT MERRY METAL METRO MIDGE MIDST MIMIC MINCE MODEL MOIST MOLAR MONEY MONTH MOOSE MOSSY MOTOR MOTTO MOULT MOUNT MOURN MOUSE MOVIE MUCKY MUMMY MUSIC NAIVE NANNY NASTY NATAL NAVAL NEEDY NIGHT NINJA NINTH NOBLE NOISE NYMPH OCCUR OCEAN OFFAL OLDER OLIVE ONION ONSET OPERA OTHER OUGHT OUTDO OXIDE PANEL PANIC PAPER PARER PARRY PARTY PATTY PAUSE PEACE PEACH PERCH PERKY PHASE PHONY PHOTO PIANO PICKY PIETY PILOT PINEY PINKY PINTO PIQUE PITHY PIXEL PIXIE PLANK PLANT PLATE PLAZA PLEAT PLUCK PLUNK POINT POISE POKER POLKA POLYP POUND POWER PRICK PRIDE PRIME PRIMO PRINT PRIZE PROBE PROVE PROXY PULPY PURGE QUALM QUART QUEEN QUERY QUEST QUEUE QUICK QUIET QUIRK QUOTE RADIO RAINY RAMEN RANCH RANGE RATIO RAYON REACT REBUS REBUT RECAP REGAL RENEW REPAY RETCH RETRO RETRY REVEL RHINO RHYME RIGHT RIPER RIVAL ROBIN ROBOT ROCKY RODEO ROGUE ROOMY ROUGE ROUND ROUSE ROYAL RUDDY RUDER RUPEE RUSTY SAINT SALAD SALSA SASSY SAUTE SCALD SCARE SCARF SCOLD SCORN SCOUR SCOUT SCRAP SCRUB SEDAN SEEDY SERVE SEVER SHAKE SHALL SHAME SHARD SHAWL SHINE SHIRE SHIRK SHORN SHOWN SHOWY SHRUB SHRUG SHYLY SIEGE SIGHT SISSY SKILL SKIMP SKIRT SKUNK SLATE SLEEK SLOSH SLOTH SLUMP SLUNG SMART SMASH SMEAR SMELT SMILE SMIRK SMITE SNACK SNAFU SNAIL SNAKY SNARE SNARL SNEAK SNOUT SOGGY SOLAR SOLVE SONIC SOUND SOWER SPACE SPADE SPELL SPEND SPICE SPICY SPIEL SPIKE SPILL SPIRE SPLAT SPOKE SPRAY SPURT SQUAD SQUAT STAFF STAGE STAID STAIR STALE STAND START STEAD STEED STEIN STICK STING STINK STOCK STOMP STONE STOOL STORE STORY STOUT STOVE STRAP STRAW STUDY STYLE SUGAR SULKY SURER SURLY SWEAT SWEEP SWEET SWILL SWINE SWIRL SYRUP TACIT TANGY TAPER TAPIR TARDY TASTE TASTY TAUNT TEASE TEMPO TENTH TEPID THEIR THEME THERE THIEF THINK THIRD THORN THOSE THROW THUMB THUMP THYME TIARA TIBIA TIGER TILDE TIPSY TODAY TONIC TOPAZ TORSO TOTEM TOUGH TOXIC TRACE TRACT TRADE TRAIN TRAIT TRASH TRAWL TREAT TREND TRIAD TRICE TRITE TROLL TROPE TROVE TRUSS TRUST TRUTH TRYST TWANG TWEED TWICE TWINE ULCER ULTRA UNCLE UNDER UNDUE UNFED UNFIT UNIFY UNITE UNLIT UNMET UNTIE UNTIL UNZIP UPSET USAGE USHER USING USUAL USURP UTTER VAGUE VALET VALID VENOM VERVE VIGOR VIOLA VIRAL VITAL VIVID VODKA VOICE VOTER VOUCH WACKY WALTZ WASTE WATCH WEARY WEDGE WHACK WHALE WHEEL WHELP WHERE WHIFF WHILE WHINE WHIRL WHISK WHOOP WINCE WINDY WOKEN WOOER WORDY WORLD WORRY WORSE WOVEN WRATH WRITE WRONG WROTE WRUNG YACHT YEARN YIELD YOUTH ZESTY'\n",
    "past_words = raw_words.split(' ')\n",
    "past_words = [word.lower() for word in past_words]\n",
    "# past_words"
   ]
  },
  {
   "cell_type": "code",
   "execution_count": 6,
   "metadata": {},
   "outputs": [],
   "source": [
    "response = get('https://www.wordunscrambler.net/word-list/wordle-word-list')\n",
    "bs = BeautifulSoup(response.text, 'html.parser')\n",
    "all_a_html = bs.find_all('a')\n",
    "all_a = [a.text for a in all_a_html]\n",
    "all_words = [word for word in all_a if len(word) == 5]\n",
    "pool = [word for word in all_words if word not in past_words]"
   ]
  },
  {
   "cell_type": "code",
   "execution_count": 7,
   "metadata": {},
   "outputs": [],
   "source": [
    "# resp = get('https://norvig.com/ngrams/count_1w.txt')\n",
    "# bs = BeautifulSoup(resp.text, 'html.parser')\n",
    "# txt = bs.text.split()\n",
    "# options = [x for x in txt if len(x) == 5 and x not in past_words and x in pool]\n",
    "# print(options)\n",
    "options = ['which', 'would', 'these', 'price', 'state', 'after', 'video', 'order', 'local', 'phone', 'forum', 'check', 'women', 'south', 'house', 'three', 'total', 'place', 'north', 'media', 'water', 'since', 'board', 'white', 'small', 'level', 'image', 'title', 'still', 'visit', 'reply', 'value', 'press', 'learn', 'large', 'table', 'going', 'never', 'topic', 'login', 'legal', 'young', 'issue', 'court', 'offer', 'event', 'china', 'might', 'child', 'share', 'color', 'track', 'least', 'short', 'daily', 'early', 'final', 'thing', 'cheap', 'cover', 'often', 'taken', 'known', 'whole', 'later', 'along', 'among', 'speed', 'brand', 'stuff', 'doing', 'entry', 'force', 'river', 'build', 'lower', 'union', 'woman', 'cable', 'score', 'flash', 'super', 'brown', 'smith', 'thank', 'prior', 'sport', 'ready', 'built', 'blood', 'basis', 'award', 'quite', 'owner', 'trial', 'match', 'sense', 'block', 'civil', 'steel', 'fully', 'worth', 'grant', 'scale', 'heard', 'bible', 'suite', 'piece', 'sheet', 'seven', 'whose', 'buyer', 'canon', 'chair', 'shirt', 'claim', 'patch', 'joint', 'upper', 'began', 'creek', 'urban', 'admin', 'heavy', 'solid', 'touch', 'avoid', 'virus', 'abuse', 'faith', 'chain', 'reach', 'sorry', 'draft', 'funny', 'tried', 'harry', 'brain', 'false', 'brief', 'eight', 'alert', 'truck', 'route', 'anime', 'speak', 'rural', 'fight', 'minor', 'spent', 'cycle', 'sleep', 'scene', 'guess', 'bonus', 'dress', 'refer', 'proof', 'ideal', 'cream', 'aware', 'shape', 'width', 'array', 'sharp', 'plain', 'trail', 'buddy', 'setup', 'scope', 'mouth', 'meter', 'fruit', 'genre', 'slide', 'bound', 'storm', 'micro', 'paint', 'delay', 'novel', 'truly', 'lodge', 'broad', 'newly', 'raise', 'drama', 'lunch', 'tower', 'shell', 'split', 'shift', 'teach', 'rapid', 'pulse', 'strip', 'pearl', 'blank', 'tight', 'plane', 'grace', 'villa', 'inner', 'lease', 'proud', 'alarm', 'angle', 'vinyl', 'worst', 'honor', 'eagle', 'nurse', 'comic', 'crown', 'maker', 'crack', 'smoke', 'craft', 'apart', 'blind', 'gross', 'fifth', 'dirty', 'alive', 'ridge', 'modem', 'fiber', 'fraud', 'roger', 'crash', 'mayor', 'hence', 'radar', 'diary', 'shock', 'ebony', 'drawn', 'pizza', 'globe', 'ghost', 'brass', 'booty', 'venue', 'enemy', 'thick', 'vista', 'arena', 'grown', 'moral', 'billy', 'rugby', 'fluid', 'devil', 'grass', 'manga', 'theft', 'swing', 'shoot', 'elite', 'gnome', 'shore', 'loose', 'horny', 'ralph', 'decor', 'aging', 'intro', 'sigma', 'arrow', 'rough', 'weird', 'blade', 'crowd', 'cloud', 'valve', 'knife', 'shelf', 'outer', 'steam', 'stood', 'stack', 'curve', 'trunk', 'camel', 'juice', 'chase', 'sauce', 'haven', 'basin', 'drunk', 'nylon', 'fleet', 'omega', 'grill', 'grain', 'salon', 'turbo', 'reset', 'spare', 'honey', 'gauge', 'sixth', 'sandy', 'macro', 'laugh', 'pitch', 'teeth', 'stamp', 'blend', 'chuck', 'bingo', 'sunny', 'chose', 'blast', 'cyber', 'clone', 'relay', 'motel', 'rally', 'dying', 'stuck', 'vocal', 'organ', 'rider', 'bobby', 'sheep', 'paste', 'relax', 'sword', 'coral', 'dairy', 'fancy', 'chaos', 'wheat', 'unity', 'begun', 'fever', 'rover', 'flame', 'annex', 'arise', 'chess', 'canal', 'drill', 'trick', 'wider', 'screw', 'randy', 'brick', 'cabin', 'handy', 'tribe', 'batch', 'amend', 'chick', 'thong', 'booth', 'breed', 'polar', 'patio', 'snake', 'berry', 'timer', 'verse', 'tumor', 'forty', 'welsh', 'twist', 'debut', 'penny', 'newer', 'minus', 'shade', 'lyric', 'grave', 'lobby', 'punch', 'holly', 'silly', 'fence', 'fatal', 'sheer', 'witch', 'puppy', 'smell', 'satin', 'nerve', 'rebel', 'slope', 'rehab', 'fairy', 'shaft', 'kitty', 'scuba', 'dried', 'derby', 'steal', 'dealt', 'wrist', 'realm', 'yeast', 'armor', 'laden', 'merge', 'sperm', 'sally', 'shark', 'cliff', 'ozone', 'pasta', 'serum', 'swift', 'inbox', 'wound', 'belle', 'cubic', 'elect', 'bunny', 'climb', 'token', 'flush', 'jewel', 'teddy', 'dryer', 'funky', 'scary', 'tooth', 'drove', 'lance', 'purse', 'align', 'bless', 'crest', 'alloy', 'bloom', 'surge', 'spank', 'vault', 'orbit', 'bacon', 'spine', 'trout', 'fatty', 'scoop', 'blink', 'fuzzy', 'dense', 'wagon', 'quilt', 'mambo', 'flour', 'blond', 'burst', 'daisy', 'crude', 'safer', 'theta', 'stake', 'rifle', 'waist', 'sewer', 'resin', 'decay', 'skate', 'urine', 'towel', 'habit', 'coupe', 'sixty', 'spark', 'tonga', 'hardy', 'plush', 'adapt', 'stern', 'tutor', 'idiot', 'debit', 'raven', 'slice', 'demon', 'couch', 'optic', 'chili', 'quake', 'alley', 'renal', 'spite', 'imply', 'liner', 'skull', 'steak', 'cobra', 'threw', 'drake', 'fried', 'woody', 'cried', 'rigid', 'sauna', 'cruel', 'eager', 'pupil', 'ankle', 'blunt', 'flute', 'harsh', 'cease', 'equip', 'hedge', 'curry', 'pouch', 'spoon', 'niche', 'curse', 'titan', 'shout', 'reuse', 'uncut', 'freak', 'sadly', 'drift', 'crisp', 'assay', 'pagan', 'widow', 'juicy', 'moody', 'pedal', 'terra', 'vapor', 'hydro', 'noisy', 'abide', 'bliss', 'parse', 'jelly', 'cheer', 'clamp', 'grape', 'racer', 'guilt', 'boxer', 'weigh', 'crush', 'lever', 'tarot', 'clash', 'stain', 'reign', 'baron', 'stiff', 'rabbi', 'sushi', 'puffy', 'elbow', 'stark', 'razor', 'cough', 'inlet', 'gloss', 'porch', 'eaten', 'steep', 'creed', 'plump', 'borne', 'torch', 'attic', 'piper', 'cutie', 'notch', 'scent', 'grasp', 'ounce', 'toast', 'kinky', 'quota', 'jumbo', 'flint', 'dummy', 'burnt', 'roast', 'petty', 'shiny', 'beard', 'savvy', 'fetal', 'erase', 'prose', 'swear', 'taboo', 'dough', 'welch', 'roach', 'prone', 'motif', 'spear', 'slash', 'shook', 'zebra', 'fetch', 'shear', 'trump', 'avian', 'crawl', 'hazel', 'stole', 'quasi', 'exile', 'kappa', 'snoop', 'bravo', 'basil', 'shack', 'hitch', 'tango', 'queer', 'freed', 'bowel', 'mafia', 'lipid', 'prism', 'vegan', 'groom', 'risen', 'ruler', 'swept', 'troop', 'arose', 'shave', 'swamp', 'faint', 'gland', 'stoke', 'nasal', 'jolly', 'femme', 'butte', 'chalk', 'grind', 'blitz', 'rumor', 'diver', 'blaze', 'wreck', 'risky', 'tulip', 'owing', 'ditch', 'slick', 'slept', 'tenor', 'cello', 'dusty', 'sworn', 'beech', 'tense', 'decal', 'fritz', 'mover', 'fauna', 'detox', 'quark', 'octet', 'willy', 'tidal', 'dolly', 'miner', 'mound', 'scion', 'wharf', 'datum', 'psalm', 'swell', 'viper', 'gypsy', 'wight', 'brace', 'mango', 'thigh', 'steer', 'vogue', 'stall', 'serif', 'pinch', 'filth', 'algae', 'shady', 'erect', 'rotor', 'bison', 'greed', 'incur', 'fudge', 'weave', 'slack', 'banjo', 'stare', 'missy', 'aisle', 'seize', 'spawn', 'stony', 'crypt', 'tying', 'diode', 'deter', 'furry', 'rinse', 'ether', 'haute', 'muddy', 'shalt', 'visor', 'folio', 'fiery', 'acorn', 'basal', 'smoky', 'slang', 'finch', 'tally', 'creep', 'stray', 'poppy', 'forte', 'waive', 'lymph', 'latch', 'drank', 'stunt', 'witty', 'flown', 'silky', 'fetus', 'pivot', 'glide', 'creme', 'modal', 'cadet', 'tweak', 'eater', 'bezel', 'sling', 'axial', 'plaid', 'fable', 'obese', 'sober', 'tread', 'paddy', 'otter', 'dread', 'snowy', 'genie', 'husky', 'adept', 'ester', 'mower', 'graft', 'envoy', 'abort', 'glare', 'wafer', 'stash', 'semen', 'hover', 'lupus', 'snort', 'cameo', 'leach', 'fanny', 'milky', 'navel', 'spool', 'annoy', 'toxin', 'penal', 'smack', 'cloak', 'manic', 'gravy', 'payer', 'dizzy', 'verge', 'nomad', 'spoil', 'palsy', 'oddly', 'mamma', 'mural', 'wager', 'poser', 'stump', 'scalp', 'melon', 'siren', 'clasp', 'sonar', 'opium', 'slant', 'shank', 'geese', 'mecca', 'broth', 'revue', 'slain', 'quail', 'icing', 'strut', 'plume', 'enact', 'deity', 'peril', 'abode', 'savoy', 'comfy', 'nicer', 'boast', 'angst', 'facet', 'spree', 'embed', 'brute', 'butch', 'defer', 'salty', 'valor', 'goofy', 'vigil', 'bulky', 'widen', 'fluke', 'glade', 'caste', 'druid', 'swarm', 'drown', 'niece', 'hippo', 'plead', 'sheen', 'medic', 'pecan', 'remit', 'lucid', 'synod', 'lousy', 'caddy', 'tramp', 'lathe', 'bylaw', 'crook', 'putty', 'patsy', 'haste', 'prong', 'lingo', 'piggy', 'lager', 'brood', 'sniff', 'posse', 'unset', 'melee', 'llama', 'vowel', 'fecal', 'guile', 'moron', 'dogma', 'winch', 'pence', 'ovary', 'abbot', 'arson', 'geeky', 'haunt', 'lefty', 'deuce', 'riser', 'inlay', 'carve', 'apnea', 'swish', 'relic', 'nudge', 'anvil', 'stalk', 'mocha', 'pubic', 'crock', 'spoof', 'spout', 'hefty', 'hoist', 'swami', 'feral', 'truce', 'petal', 'ascot', 'vixen', 'bulge', 'overt', 'slime', 'swung', 'skier', 'snuff', 'talon', 'stint', 'sieve', 'limbo', 'shove', 'flake', 'wiser', 'flung', 'juror', 'tenet', 'mulch', 'vicar', 'prank', 'suing', 'scamp', 'evoke', 'macho', 'amaze', 'easel', 'quill', 'verso', 'cleft', 'girly', 'eerie', 'shale', 'crepe', 'guise', 'vomit', 'bongo', 'shaky', 'jetty', 'rerun', 'jerky', 'morph', 'speck', 'papal', 'mogul', 'droit', 'frown', 'privy', 'sepia', 'goody', 'stork', 'tunic', 'drone', 'godly', 'covey', 'bosom', 'lumen', 'tonal', 'shone', 'filer', 'hasty', 'munch', 'clove', 'leech', 'giver', 'frail', 'churn', 'awoke', 'parka', 'prune', 'cairn', 'nutty', 'drier', 'swore', 'filmy', 'timid', 'gulch', 'clout', 'fella', 'plumb', 'junta', 'taker', 'pesky', 'knack', 'rivet', 'grunt', 'rabid', 'cumin', 'payee', 'hippy', 'roost', 'shunt', 'tawny', 'mucus', 'liege', 'sheik', 'mauve', 'spore', 'bugle', 'radii', 'lasso', 'bevel', 'dodgy', 'brawl', 'tubal', 'chore', 'octal', 'amuse', 'idiom', 'gamut', 'filet', 'lorry', 'madly', 'scant', 'flier', 'amity', 'drool', 'zonal', 'freer', 'murky', 'cabal', 'pesto', 'tacky', 'chasm', 'decoy', 'rigor', 'gusto', 'hilly', 'prawn', 'rowdy', 'torus', 'chock', 'curio', 'voila', 'savor', 'tabby', 'gourd', 'filly', 'slurp', 'brunt', 'ember', 'quack', 'drape', 'broil', 'cacti', 'jiffy', 'saucy', 'groan', 'expel', 'swoop', 'gumbo', 'adorn', 'sully', 'salvo', 'fleck', 'alibi', 'femur', 'bushy', 'affix', 'flaky', 'repel', 'puree', 'swath', 'harem', 'fussy', 'shoal', 'spelt', 'nerdy', 'scrum', 'snipe', 'salve', 'friar', 'pygmy', 'pansy', 'dingo', 'baggy', 'wield', 'adage', 'budge', 'bilge', 'taffy', 'boney', 'bitty', 'flack', 'rumba', 'spunk', 'stung', 'fugue', 'penne', 'allot', 'meaty', 'felon', 'spasm', 'dusky', 'slush', 'gipsy', 'dirge', 'edict', 'shrew', 'mirth', 'conch', 'noose', 'recur', 'taint', 'crier', 'ladle', 'cleat', 'spiny', 'clung', 'graze', 'afoot', 'hotly', 'stave', 'crick', 'stoop', 'curvy', 'tithe', 'idler', 'gleam', 'tamer', 'nadir', 'gavel', 'vying', 'pooch', 'ensue', 'slimy', 'clump', 'prowl', 'dimly', 'hymen', 'etude', 'gaunt', 'suave', 'tulle', 'gooey', 'artsy', 'golly', 'crump', 'hunch', 'umbra', 'amply', 'spook', 'olden', 'reedy', 'wreak', 'bloat', 'sleet', 'soapy', 'erupt', 'lumpy', 'heave', 'rarer', 'coven', 'elegy', 'sloop', 'myrrh', 'chaff', 'emcee', 'spied', 'aloof', 'snore', 'quell', 'posit', 'downy', 'lemur', 'terse', 'utile', 'dowel', 'quoth', 'ditty', 'skiff', 'gummy', 'rebar', 'cress', 'ficus', 'smote', 'axion', 'mushy', 'snuck', 'awash', 'scaly', 'glint', 'stoic', 'livid', 'chump', 'hyena', 'swash', 'clank', 'blimp', 'macaw', 'plier', 'guava', 'wimpy', 'bigot', 'wooly', 'pushy', 'dingy', 'truer', 'mange', 'swoon', 'clack', 'tuber', 'plied', 'ombre', 'chirp', 'halve', 'rower', 'aunty', 'snide', 'gruff', 'buxom', 'musty', 'knead', 'segue', 'twirl', 'ingot', 'pasty', 'foamy', 'lurid', 'whiny', 'miser', 'smock', 'sooty', 'minty', 'waver', 'sappy', 'tripe', 'spilt', 'scone', 'throb', 'evict', 'neigh', 'balmy', 'krill', 'moldy', 'lurch', 'quash', 'sneer', 'allay', 'decry', 'gusty', 'leper', 'lunge', 'refit', 'slink', 'endow', 'joist', 'fizzy', 'exalt', 'begat', 'ripen', 'brawn', 'wring', 'stilt', 'clang', 'humus', 'wrest', 'ashen', 'leggy', 'amass', 'iliac', 'spiky', 'sumac', 'louse', 'scoff', 'musky', 'furor', 'udder', 'abhor', 'dopey', 'tweet', 'elfin', 'jumpy', 'testy', 'minim', 'clink', 'bossy', 'bicep', 'dicey', 'dowdy', 'dilly', 'bawdy', 'weedy', 'grope', 'afoul', 'rajah', 'dross', 'baler', 'paler', 'frisk', 'loath', 'extol', 'knave', 'croup', 'ratty', 'scree', 'recut', 'ovine', 'annul', 'lanky', 'mammy', 'purer', 'bleat', 'sprig', 'ovate', 'dally', 'amble', 'sooth', 'aider', 'scram', 'loamy', 'biddy', 'crony', 'teary', 'satyr', 'lithe', 'gaffe', 'liken', 'nosey', 'toddy', 'gaily', 'tatty', 'gazer', 'junto', 'undid', 'betel', 'unwed', 'clued', 'eclat', 'abled', 'augur', 'idyll', 'wispy', 'nobly', 'boule', 'shuck', 'scowl', 'afire', 'squib', 'dunce', 'drawl', 'warty', 'vapid', 'catty', 'harpy', 'singe', 'caput', 'raspy', 'ovoid', 'imbue', 'slyly', 'shied', 'opine', 'plait', 'leant', 'stank', 'frill', 'dryly', 'corer', 'gonad', 'baste', 'deign', 'wryly', 'prude', 'botch', 'copse', 'pudgy', 'dumpy', 'frond', 'hussy', 'saner', 'pried', 'bluer', 'flunk', 'spurn', 'hovel', 'stunk', 'fetid', 'sinew', 'twixt', 'preen', 'woozy', 'kneed', 'pouty', 'edify', 'oaken', 'wrack', 'briny', 'cagey', 'dully', 'chide', 'gassy', 'bused', 'poesy', 'gayer', 'cabby', 'odder', 'shush', 'foist', 'mangy', 'debar', 'tepee', 'blare', 'rearm', 'demur', 'aping', 'slunk', 'daunt', 'ninny', 'outgo', 'waxen', 'eying', 'befit', 'gayly', 'thrum', 'cavil', 'eking', 'skulk', 'elide', 'icily', 'vaunt', 'elate']"
   ]
  },
  {
   "cell_type": "code",
   "execution_count": 8,
   "metadata": {},
   "outputs": [],
   "source": [
    "# make it remove words with letters that aren't in the guess\n",
    "\n",
    "# make it account for double letters\n",
    "\n",
    "# need to update the options every time"
   ]
  },
  {
   "cell_type": "code",
   "execution_count": 14,
   "metadata": {},
   "outputs": [
    {
     "name": "stdout",
     "output_type": "stream",
     "text": [
      "length of options before anything: 28\n",
      "\n",
      "length of options after misses and before true_letter: 27\n",
      "\n",
      "length of options after green letter and misses: 27\n",
      "\n",
      "length of options after green letter, yellow letter, and misses: 10\n",
      "\n",
      "final options ranked by most popular ['scope', 'slope']\n",
      "\n"
     ]
    }
   ],
   "source": [
    "misses = ['r', 'i', 'a', 'd']\n",
    "guess = 'speed'\n",
    "guess_scores = [2, 1, 1, 0, 0]\n",
    "o = remove_words(options, misses, guess, guess_scores)\n",
    "# print(f'options: {options}\\n')\n",
    "final_options = filter_by_score(o, guess, guess_scores)\n",
    "print(f'final options ranked by most popular {final_options}\\n')"
   ]
  },
  {
   "cell_type": "code",
   "execution_count": 15,
   "metadata": {},
   "outputs": [
    {
     "data": {
      "text/plain": [
       "'anything!'"
      ]
     },
     "execution_count": 15,
     "metadata": {},
     "output_type": "execute_result"
    }
   ],
   "source": [
    "input(\"say something, anythiing!\")"
   ]
  }
 ],
 "metadata": {
  "kernelspec": {
   "display_name": "base",
   "language": "python",
   "name": "python3"
  },
  "language_info": {
   "codemirror_mode": {
    "name": "ipython",
    "version": 3
   },
   "file_extension": ".py",
   "mimetype": "text/x-python",
   "name": "python",
   "nbconvert_exporter": "python",
   "pygments_lexer": "ipython3",
   "version": "3.9.13"
  }
 },
 "nbformat": 4,
 "nbformat_minor": 2
}
