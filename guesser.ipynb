{
 "cells": [
  {
   "cell_type": "code",
   "execution_count": null,
   "metadata": {},
   "outputs": [],
   "source": [
    "import pandas as pd\n",
    "%run wordler.ipynb \n",
    "\n",
    "all_options = pd.read_csv('options.csv')['word'].tolist()\n",
    "options = all_options\n",
    "keep_guessing = True\n",
    "count = 0\n",
    "correct_word = ''\n",
    "\n",
    "while keep_guessing:\n",
    "    count += 1\n",
    "    guess = input('What did we guess?')\n",
    "    if guess == '':\n",
    "        break\n",
    "    misses = input('What letters did we miss?')\n",
    "    guess_scores = input('What were the scores?')\n",
    "    misses = [x for x in misses]\n",
    "    guess_scores = [int(x) for x in guess_scores]\n",
    "\n",
    "    print(f'\\nguess: {guess}\\n')\n",
    "    print(f'misses: {misses}\\n')\n",
    "    print(f'guess_scores: {guess_scores}\\n')\n",
    "\n",
    "    info_words = get_info_words(list(guess), options)\n",
    "    info_words_sorted = info_gain(info_words)\n",
    "    o, ml = remove_words(options, misses, guess, guess_scores)\n",
    "    # print(f'options: {options}\\n')\n",
    "    # final_options = filter_by_score(o, guess, guess_scores) # is this actually necessary?\n",
    "    d = build_confidence_dict(o, ml)\n",
    "    dinfo = {k: v for k, v in sorted(info_words_sorted.items(), key=lambda item: item[1])}\n",
    "    \n",
    "    print(f'\\n\\nfinal option(s) ranked by confidence level (max 10):  {list(d.items())[:10]}\\n')\n",
    "    print(f'top final option(s) ranked by word popularity (max 10): {o[:10]}\\n')\n",
    "    print(f'final option(s) ranked by confidence * popularity (max 10): {list(compare_lists(o, d).items())[:10]}\\n')\n",
    "    print(f'Top guesses that will narrow down the options the most:{list(reversed(dinfo.keys()))}')\n",
    "\n",
    "\n",
    "\n",
    "    if input('Take a look at the options below and input your guess. If we guessed correctly, type \"correct\", otherwise, hit enter') == 'correct':\n",
    "        count +=1\n",
    "        keep_guessing = False\n",
    "        correct_word = input(f'\\nNice job! We got it in {count} guesses! What was the correct word?\\n')\n",
    "        continue\n",
    "    \n",
    "    options = o\n",
    "    # print(len(options), len(all_options))\n",
    "\n",
    "if correct_word in all_options:\n",
    "    all_options.remove(correct_word)\n",
    "df = pd.DataFrame(all_options, columns=['word'])\n",
    "df.to_csv('options.csv', index=False)"
   ]
  }
 ],
 "metadata": {
  "kernelspec": {
   "display_name": "base",
   "language": "python",
   "name": "python3"
  },
  "language_info": {
   "codemirror_mode": {
    "name": "ipython",
    "version": 3
   },
   "file_extension": ".py",
   "mimetype": "text/x-python",
   "name": "python",
   "nbconvert_exporter": "python",
   "pygments_lexer": "ipython3",
   "version": "3.9.13"
  }
 },
 "nbformat": 4,
 "nbformat_minor": 2
}
